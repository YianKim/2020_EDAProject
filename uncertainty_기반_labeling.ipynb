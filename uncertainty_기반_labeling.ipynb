{
  "cells": [
    {
      "cell_type": "markdown",
      "metadata": {
        "id": "view-in-github",
        "colab_type": "text"
      },
      "source": [
        "<a href=\"https://colab.research.google.com/github/YianKim/2020_EDAProject/blob/main/uncertainty_%EA%B8%B0%EB%B0%98_labeling.ipynb\" target=\"_parent\"><img src=\"https://colab.research.google.com/assets/colab-badge.svg\" alt=\"Open In Colab\"/></a>"
      ]
    },
    {
      "cell_type": "markdown",
      "metadata": {
        "id": "5FQpjWg4Ld6m"
      },
      "source": [
        "## 구글 드라이브\n"
      ]
    },
    {
      "cell_type": "code",
      "execution_count": 254,
      "metadata": {
        "colab": {
          "base_uri": "https://localhost:8080/"
        },
        "id": "SyTEuhg7fR9P",
        "outputId": "974f9f06-7b03-4dec-e678-4bc33c33dff4"
      },
      "outputs": [
        {
          "output_type": "stream",
          "name": "stdout",
          "text": [
            "Drive already mounted at /content/drive; to attempt to forcibly remount, call drive.mount(\"/content/drive\", force_remount=True).\n"
          ]
        }
      ],
      "source": [
        "from google.colab import drive\n",
        "drive.mount('/content/drive')"
      ]
    },
    {
      "cell_type": "markdown",
      "metadata": {
        "id": "UQy7KUb6NBs-"
      },
      "source": [
        "## 라이브러리 불러오기\n"
      ]
    },
    {
      "cell_type": "code",
      "execution_count": 355,
      "metadata": {
        "id": "XRPQRtXGmm2W"
      },
      "outputs": [],
      "source": [
        "%matplotlib inline\n",
        "import matplotlib.pyplot as plt\n",
        "from tensorflow import keras\n",
        "import numpy as np\n",
        "from tensorflow.keras.utils import to_categorical\n",
        "from sklearn.model_selection import train_test_split\n",
        "\n",
        "import PIL\n",
        "import pickle\n",
        "import random\n",
        "from tqdm import tqdm\n",
        "\n",
        "from keras.layers.core import Lambda\n",
        "from keras import backend as K\n",
        "\n",
        "from keras.models import Sequential\n",
        "from keras.layers import Conv2D\n",
        "from keras.layers import BatchNormalization\n",
        "from keras.regularizers import l2\n",
        "from keras.layers import Activation\n",
        "from keras.layers import Dropout\n",
        "from keras.layers import MaxPooling2D\n",
        "from keras.layers import Flatten\n",
        "from keras.layers import Dense\n",
        "from keras.layers import Reshape\n",
        "from keras.layers import LSTM\n",
        "from keras import optimizers\n",
        "from keras.callbacks import ReduceLROnPlateau, EarlyStopping, TensorBoard, ModelCheckpoint\n",
        "from sklearn.metrics import *\n",
        "from keras.models import load_model\n",
        "\n",
        "from tqdm import tqdm"
      ]
    },
    {
      "cell_type": "markdown",
      "metadata": {
        "id": "xpAjYytuPDaU"
      },
      "source": [
        "## 데이터 불러오기\n"
      ]
    },
    {
      "cell_type": "code",
      "source": [
        "fashion_mnist = keras.datasets.fashion_mnist\n",
        "(data, labels), (test_data, test_labels) = fashion_mnist.load_data()"
      ],
      "metadata": {
        "id": "e6b1qO5dSAyP"
      },
      "execution_count": 356,
      "outputs": []
    },
    {
      "cell_type": "code",
      "source": [
        "train_data = data[range(20000)].reshape([20000,28,28,1])\n",
        "train_labels = labels[range(20000)].reshape([20000,1])"
      ],
      "metadata": {
        "id": "B-e24WMOTQ4d"
      },
      "execution_count": 357,
      "outputs": []
    },
    {
      "cell_type": "code",
      "source": [
        "unlab_data = data[range(20000,60000)].reshape([40000,28,28,1])\n",
        "unlab_labels = labels[range(20000,60000)].reshape([40000,1])"
      ],
      "metadata": {
        "id": "EhhKskDITIEm"
      },
      "execution_count": 358,
      "outputs": []
    },
    {
      "cell_type": "code",
      "source": [
        "test_data = test_data.reshape([10000,28,28,1])\n",
        "test_labels = test_labels.reshape([10000,1])"
      ],
      "metadata": {
        "id": "W5aNLvjxVUq0"
      },
      "execution_count": 359,
      "outputs": []
    },
    {
      "cell_type": "code",
      "source": [
        "train_labels2 = []\n",
        "unlab_labels2 = []\n",
        "test_labels2 = []"
      ],
      "metadata": {
        "id": "2K2wXxMmUxRV"
      },
      "execution_count": 360,
      "outputs": []
    },
    {
      "cell_type": "code",
      "source": [
        "for i in range(20000):\n",
        "  white = [0,0,0,0,0,0,0,0,0,0]\n",
        "  white[train_labels[i][0]] = 1\n",
        "  train_labels2.append(white)\n",
        "\n",
        "for i in range(40000):\n",
        "  white = [0,0,0,0,0,0,0,0,0,0]\n",
        "  white[unlab_labels[i][0]] = 1\n",
        "  unlab_labels2.append(white)\n",
        "\n",
        "for i in range(10000):\n",
        "  white = [0,0,0,0,0,0,0,0,0,0]\n",
        "  white[test_labels[i][0]] = 1\n",
        "  test_labels2.append(white)"
      ],
      "metadata": {
        "id": "8c9LL8JVThd-"
      },
      "execution_count": 361,
      "outputs": []
    },
    {
      "cell_type": "code",
      "source": [
        "train_labels = np.array(train_labels2)\n",
        "unlab_labels = np.array(unlab_labels2)\n",
        "test_labels = np.array(test_labels2)"
      ],
      "metadata": {
        "id": "iULFrchUU5nt"
      },
      "execution_count": 362,
      "outputs": []
    },
    {
      "cell_type": "markdown",
      "metadata": {
        "id": "Sa7KYMfrkKU5"
      },
      "source": [
        "## CNN"
      ]
    },
    {
      "cell_type": "code",
      "execution_count": 363,
      "metadata": {
        "id": "zn3v_W8wJQ68"
      },
      "outputs": [],
      "source": [
        "def PermaDropout(rate):\n",
        "    return Lambda(lambda x: K.dropout(x, level=rate))"
      ]
    },
    {
      "cell_type": "code",
      "execution_count": 364,
      "metadata": {
        "colab": {
          "base_uri": "https://localhost:8080/"
        },
        "id": "L5scE9yKkIZb",
        "outputId": "1f081750-f12a-42dc-8459-8b508375911e"
      },
      "outputs": [
        {
          "output_type": "stream",
          "name": "stdout",
          "text": [
            "Epoch 1/20\n",
            "219/219 [==============================] - 4s 15ms/step - loss: 1.8943 - accuracy: 0.6714 - val_loss: 0.7000 - val_accuracy: 0.7502\n",
            "Epoch 2/20\n",
            "219/219 [==============================] - 3s 13ms/step - loss: 0.5884 - accuracy: 0.7906 - val_loss: 0.5695 - val_accuracy: 0.7870\n",
            "Epoch 3/20\n",
            "219/219 [==============================] - 3s 13ms/step - loss: 0.5124 - accuracy: 0.8198 - val_loss: 0.5398 - val_accuracy: 0.8072\n",
            "Epoch 4/20\n",
            "219/219 [==============================] - 3s 12ms/step - loss: 0.4526 - accuracy: 0.8328 - val_loss: 0.5277 - val_accuracy: 0.8113\n",
            "Epoch 5/20\n",
            "219/219 [==============================] - 3s 13ms/step - loss: 0.4206 - accuracy: 0.8431 - val_loss: 0.5110 - val_accuracy: 0.8195\n",
            "Epoch 6/20\n",
            "219/219 [==============================] - 3s 12ms/step - loss: 0.3843 - accuracy: 0.8563 - val_loss: 0.5062 - val_accuracy: 0.8272\n",
            "Epoch 7/20\n",
            "219/219 [==============================] - 3s 13ms/step - loss: 0.3561 - accuracy: 0.8671 - val_loss: 0.5051 - val_accuracy: 0.8383\n",
            "Epoch 8/20\n",
            "219/219 [==============================] - 3s 13ms/step - loss: 0.3411 - accuracy: 0.8744 - val_loss: 0.5033 - val_accuracy: 0.8387\n",
            "Epoch 9/20\n",
            "219/219 [==============================] - 3s 12ms/step - loss: 0.3235 - accuracy: 0.8774 - val_loss: 0.5026 - val_accuracy: 0.8347\n",
            "Epoch 10/20\n",
            "219/219 [==============================] - 3s 12ms/step - loss: 0.3091 - accuracy: 0.8862 - val_loss: 0.4801 - val_accuracy: 0.8483\n",
            "Epoch 11/20\n",
            "219/219 [==============================] - 3s 12ms/step - loss: 0.2867 - accuracy: 0.8902 - val_loss: 0.4747 - val_accuracy: 0.8467\n",
            "Epoch 12/20\n",
            "219/219 [==============================] - 3s 12ms/step - loss: 0.2848 - accuracy: 0.8938 - val_loss: 0.4631 - val_accuracy: 0.8487\n",
            "Epoch 13/20\n",
            "219/219 [==============================] - 3s 13ms/step - loss: 0.2744 - accuracy: 0.8961 - val_loss: 0.5028 - val_accuracy: 0.8433\n",
            "Epoch 14/20\n",
            "219/219 [==============================] - 3s 13ms/step - loss: 0.2680 - accuracy: 0.8979 - val_loss: 0.4608 - val_accuracy: 0.8528\n",
            "Epoch 15/20\n",
            "219/219 [==============================] - 3s 12ms/step - loss: 0.2566 - accuracy: 0.9036 - val_loss: 0.5005 - val_accuracy: 0.8495\n",
            "Epoch 16/20\n",
            "219/219 [==============================] - 3s 13ms/step - loss: 0.2474 - accuracy: 0.9064 - val_loss: 0.5027 - val_accuracy: 0.8490\n",
            "Epoch 17/20\n",
            "219/219 [==============================] - 3s 12ms/step - loss: 0.2383 - accuracy: 0.9123 - val_loss: 0.5025 - val_accuracy: 0.8472\n",
            "Epoch 18/20\n",
            "219/219 [==============================] - 3s 12ms/step - loss: 0.2294 - accuracy: 0.9134 - val_loss: 0.4615 - val_accuracy: 0.8600\n",
            "Epoch 19/20\n",
            "219/219 [==============================] - 3s 13ms/step - loss: 0.2200 - accuracy: 0.9170 - val_loss: 0.4678 - val_accuracy: 0.8588\n",
            "Epoch 20/20\n",
            "219/219 [==============================] - 3s 13ms/step - loss: 0.2199 - accuracy: 0.9164 - val_loss: 0.4865 - val_accuracy: 0.8547\n"
          ]
        },
        {
          "output_type": "execute_result",
          "data": {
            "text/plain": [
              "<keras.callbacks.History at 0x7f9e2bc766d0>"
            ]
          },
          "metadata": {},
          "execution_count": 364
        }
      ],
      "source": [
        "#######HYPERPARAMATERS###########\n",
        "epochs = 20\n",
        "batch_size = 64\n",
        "learning_rate = 0.001\n",
        "#################################\n",
        "  \n",
        "model = Sequential()\n",
        "    \n",
        "model.add(Conv2D(32, kernel_size = (3,3), input_shape=(28,28,1), activation='relu'))\n",
        "model.add(Conv2D(64,(3,3), activation='relu'))\n",
        "model.add(MaxPooling2D(pool_size=2))\n",
        "model.add(PermaDropout(0.5))\n",
        "model.add(Flatten())\n",
        "model.add(Dense(128, activation='relu'))\n",
        "model.add(PermaDropout(0.5))\n",
        "model.add(Dense(10, activation='softmax'))\n",
        "adam = keras.optimizers.Adam(learning_rate)\n",
        "model.compile(optimizer = adam, loss = 'categorical_crossentropy', metrics = ['accuracy'])\n",
        "    \n",
        "# print(model.summary())\n",
        "\n",
        "lr_reducer = ReduceLROnPlateau(monitor='val_loss', factor=0.9, patience=3)\n",
        "early_stopper = EarlyStopping(monitor='val_accuracy', min_delta=0, patience=30, mode='auto')\n",
        "checkpointer = ModelCheckpoint('weights.hd5', monitor='val_loss', verbose=1, save_best_only=True)\n",
        "\n",
        "model.fit(\n",
        "          train_data,\n",
        "          train_labels,\n",
        "          epochs = epochs,\n",
        "          batch_size = batch_size,\n",
        "          validation_split = 0.3,\n",
        "          shuffle = True\n",
        "          )"
      ]
    },
    {
      "cell_type": "code",
      "execution_count": 365,
      "metadata": {
        "id": "LVOc3hYIkXrl"
      },
      "outputs": [],
      "source": [
        "model.save('/content/drive/MyDrive/파이썬스터디 프로젝트/labeling_cnn.h5')"
      ]
    },
    {
      "cell_type": "code",
      "execution_count": 366,
      "metadata": {
        "id": "n5D8i_BCkdjS"
      },
      "outputs": [],
      "source": [
        "model = keras.models.load_model('/content/drive/MyDrive/파이썬스터디 프로젝트/labeling_cnn.h5')"
      ]
    },
    {
      "cell_type": "markdown",
      "metadata": {
        "id": "TD8ppILhFUrz"
      },
      "source": [
        "## 모델 결과"
      ]
    },
    {
      "cell_type": "code",
      "execution_count": 367,
      "metadata": {
        "id": "7Ljx2EWA2v2n"
      },
      "outputs": [],
      "source": [
        "def model_eval():\n",
        "  pred_mu = model.predict(test_data)\n",
        "  for i in range(1, 30):\n",
        "    pred_mu += model.predict(test_data)\n",
        "  pred_mu = pred_mu/30\n",
        "  predicted_test_labels = np.argmax(pred_mu, axis=1)\n",
        "  return(accuracy_score(np.argmax(test_labels, axis=1), predicted_test_labels))"
      ]
    },
    {
      "cell_type": "code",
      "execution_count": 368,
      "metadata": {
        "id": "OzhQw9NOWjl3",
        "colab": {
          "base_uri": "https://localhost:8080/"
        },
        "outputId": "8a16c787-1dc1-4e88-81d5-473693d1fe94"
      },
      "outputs": [
        {
          "output_type": "execute_result",
          "data": {
            "text/plain": [
              "0.8889"
            ]
          },
          "metadata": {},
          "execution_count": 368
        }
      ],
      "source": [
        "model = keras.models.load_model('/content/drive/MyDrive/파이썬스터디 프로젝트/labeling_cnn.h5')\n",
        "model_eval() #0.89xx"
      ]
    },
    {
      "cell_type": "markdown",
      "source": [
        "# 라벨링"
      ],
      "metadata": {
        "id": "rcbs04885lTu"
      }
    },
    {
      "cell_type": "markdown",
      "source": [
        "## 라벨링; 1"
      ],
      "metadata": {
        "id": "mAtfoQKLZDJC"
      }
    },
    {
      "cell_type": "code",
      "source": [
        "model = keras.models.load_model('/content/drive/MyDrive/파이썬스터디 프로젝트/labeling_cnn.h5')"
      ],
      "metadata": {
        "id": "GKJgmFGWhlfl"
      },
      "execution_count": 369,
      "outputs": []
    },
    {
      "cell_type": "code",
      "source": [
        "# Vars : 분산들\n",
        "# Outs : 결과 값들\n",
        "\n",
        "Vars = []\n",
        "Outs = []\n",
        "\n",
        "temp1 = []\n",
        "\n",
        "for i in tqdm(range(30)):\n",
        "  temp1.append(model.predict(unlab_data))\n",
        "\n",
        "for j in tqdm(range(unlab_data.shape[0])):\n",
        "\n",
        "  temp2 = np.array([0,0,0,0,0,0,0,0,0,0], 'float32')\n",
        "  \n",
        "  for i in range(30):\n",
        "    temp2 += temp1[i][j]\n",
        "  Outs.append(temp2/30)\n",
        "  \n",
        "  outputs=[]\n",
        "\n",
        "  for i in range(30):\n",
        "    outputs.append(temp1[i][j][np.argmax(temp2)])\n",
        "  Vars.append(np.var(outputs))"
      ],
      "metadata": {
        "colab": {
          "base_uri": "https://localhost:8080/"
        },
        "id": "J_Jb5VX9ZC3y",
        "outputId": "40a40c01-d0e2-4c6b-b6f8-1164ead43616"
      },
      "execution_count": 370,
      "outputs": [
        {
          "output_type": "stream",
          "name": "stderr",
          "text": [
            "100%|██████████| 30/30 [02:13<00:00,  4.46s/it]\n",
            "100%|██████████| 40000/40000 [00:07<00:00, 5262.38it/s]\n"
          ]
        }
      ]
    },
    {
      "cell_type": "code",
      "source": [
        "lowvars = []\n",
        "ind = 0 \n",
        "\n",
        "for i in Vars:\n",
        "  if i < 1e-5:\n",
        "    lowvars.append(ind)\n",
        "  ind += 1"
      ],
      "metadata": {
        "id": "6BUHoKvtkJ37"
      },
      "execution_count": 371,
      "outputs": []
    },
    {
      "cell_type": "code",
      "source": [
        "highvars = []\n",
        "for i in range(unlab_data.shape[0]):\n",
        "  if i not in lowvars:\n",
        "    highvars.append(i)"
      ],
      "metadata": {
        "id": "9WhEDezq362P"
      },
      "execution_count": 372,
      "outputs": []
    },
    {
      "cell_type": "code",
      "source": [
        "# 같은 길이의 랜덤하게 고른 data들에 모델로 label 부여 후 정확도 측정 : 0.90x\n",
        "randomindx = random.sample(range(40000), len(lowvars))\n",
        "accuracy_score(np.argmax(np.array(Outs)[randomindx], axis=1), np.argmax(unlab_labels[randomindx], axis=1))"
      ],
      "metadata": {
        "colab": {
          "base_uri": "https://localhost:8080/"
        },
        "id": "0uSdhE1VmF5a",
        "outputId": "e68708e7-cdb3-432c-abd9-302b5b891e72"
      },
      "execution_count": 373,
      "outputs": [
        {
          "output_type": "execute_result",
          "data": {
            "text/plain": [
              "0.9010478359908883"
            ]
          },
          "metadata": {},
          "execution_count": 373
        }
      ]
    },
    {
      "cell_type": "code",
      "source": [
        "# 저분산의 data들만 모아서 모델로 label 부여 후 정확도 측정 : 0.99x\n",
        "accuracy_score(np.argmax(np.array(Outs)[lowvars], axis=1), np.argmax(unlab_labels[lowvars], axis=1))"
      ],
      "metadata": {
        "colab": {
          "base_uri": "https://localhost:8080/"
        },
        "id": "gtEPD5p5kM-z",
        "outputId": "c7f3cb9c-2a51-42f9-897b-ebe7cf0037d5"
      },
      "execution_count": 374,
      "outputs": [
        {
          "output_type": "execute_result",
          "data": {
            "text/plain": [
              "0.9987243735763098"
            ]
          },
          "metadata": {},
          "execution_count": 374
        }
      ]
    },
    {
      "cell_type": "code",
      "source": [
        "train_data = np.concatenate([train_data, np.array(Outs)[lowvars], axis=0)\n",
        "train_labels = np.concatenate([train_labels, np.array(Outs)[lowvars], axis=0)"
      ],
      "metadata": {
        "colab": {
          "base_uri": "https://localhost:8080/",
          "height": 137
        },
        "id": "C2ab4GUWwe30",
        "outputId": "f12a5e4b-bbc0-47cd-d6b5-eef56bcab6b8"
      },
      "execution_count": 375,
      "outputs": [
        {
          "output_type": "error",
          "ename": "SyntaxError",
          "evalue": "ignored",
          "traceback": [
            "\u001b[0;36m  File \u001b[0;32m\"<ipython-input-375-44d222045f8e>\"\u001b[0;36m, line \u001b[0;32m1\u001b[0m\n\u001b[0;31m    train_data = np.concatenate([train_data, np.array(Outs)[lowvars], axis=0)\u001b[0m\n\u001b[0m                                                                          ^\u001b[0m\n\u001b[0;31mSyntaxError\u001b[0m\u001b[0;31m:\u001b[0m invalid syntax\n"
          ]
        }
      ]
    },
    {
      "cell_type": "code",
      "source": [
        "shufindx = random.sample(range(train_data.shape[0]),train_data.shape[0])\n",
        "train_data = train_data[shufindx]\n",
        "train_labels = train_labels[shufindx]"
      ],
      "metadata": {
        "id": "1xahhoBY8mKc"
      },
      "execution_count": null,
      "outputs": []
    },
    {
      "cell_type": "code",
      "source": [
        "unlab_data = np.array(Outs)[highvars]\n",
        "unlab_labels = np.array(Outs)[highvars]"
      ],
      "metadata": {
        "id": "_t9J8vlJ5TDO"
      },
      "execution_count": null,
      "outputs": []
    },
    {
      "cell_type": "code",
      "source": [
        "train_labels"
      ],
      "metadata": {
        "id": "0w6Gyn-CY887"
      },
      "execution_count": null,
      "outputs": []
    },
    {
      "cell_type": "code",
      "source": [
        "unlab_labels"
      ],
      "metadata": {
        "id": "n1oblVekYJYr"
      },
      "execution_count": null,
      "outputs": []
    },
    {
      "cell_type": "markdown",
      "source": [
        "## 모델링; 1"
      ],
      "metadata": {
        "id": "bOtFA9fr5oDF"
      }
    },
    {
      "cell_type": "code",
      "execution_count": 275,
      "metadata": {
        "id": "m7Pd9SYK5tv_"
      },
      "outputs": [],
      "source": [
        "def PermaDropout(rate):\n",
        "    return Lambda(lambda x: K.dropout(x, level=rate))"
      ]
    },
    {
      "cell_type": "code",
      "execution_count": 276,
      "metadata": {
        "colab": {
          "base_uri": "https://localhost:8080/"
        },
        "outputId": "9e365f75-037a-49fd-b124-b8850f482f6e",
        "id": "W6WgyM3Y5twA"
      },
      "outputs": [
        {
          "output_type": "stream",
          "name": "stdout",
          "text": [
            "Epoch 1/20\n",
            "329/329 [==============================] - 5s 12ms/step - loss: 1.2070 - accuracy: 0.7763 - val_loss: 0.4562 - val_accuracy: 0.8395\n",
            "Epoch 2/20\n",
            "329/329 [==============================] - 4s 12ms/step - loss: 0.4084 - accuracy: 0.8579 - val_loss: 0.3927 - val_accuracy: 0.8595\n",
            "Epoch 3/20\n",
            "329/329 [==============================] - 4s 11ms/step - loss: 0.3484 - accuracy: 0.8734 - val_loss: 0.3650 - val_accuracy: 0.8713\n",
            "Epoch 4/20\n",
            "329/329 [==============================] - 4s 11ms/step - loss: 0.3184 - accuracy: 0.8831 - val_loss: 0.3615 - val_accuracy: 0.8753\n",
            "Epoch 5/20\n",
            "329/329 [==============================] - 4s 11ms/step - loss: 0.2879 - accuracy: 0.8965 - val_loss: 0.3254 - val_accuracy: 0.8838\n",
            "Epoch 6/20\n",
            "329/329 [==============================] - 4s 12ms/step - loss: 0.2659 - accuracy: 0.9025 - val_loss: 0.3236 - val_accuracy: 0.8880\n",
            "Epoch 7/20\n",
            "329/329 [==============================] - 4s 12ms/step - loss: 0.2531 - accuracy: 0.9050 - val_loss: 0.3169 - val_accuracy: 0.8935\n",
            "Epoch 8/20\n",
            "329/329 [==============================] - 4s 11ms/step - loss: 0.2378 - accuracy: 0.9100 - val_loss: 0.2866 - val_accuracy: 0.8988\n",
            "Epoch 9/20\n",
            "329/329 [==============================] - 4s 11ms/step - loss: 0.2319 - accuracy: 0.9144 - val_loss: 0.3302 - val_accuracy: 0.8863\n",
            "Epoch 10/20\n",
            "329/329 [==============================] - 4s 12ms/step - loss: 0.2246 - accuracy: 0.9162 - val_loss: 0.3375 - val_accuracy: 0.8920\n",
            "Epoch 11/20\n",
            "329/329 [==============================] - 4s 11ms/step - loss: 0.2142 - accuracy: 0.9204 - val_loss: 0.3087 - val_accuracy: 0.8997\n",
            "Epoch 12/20\n",
            "329/329 [==============================] - 4s 12ms/step - loss: 0.2091 - accuracy: 0.9216 - val_loss: 0.3285 - val_accuracy: 0.8954\n",
            "Epoch 13/20\n",
            "329/329 [==============================] - 4s 11ms/step - loss: 0.2016 - accuracy: 0.9237 - val_loss: 0.3159 - val_accuracy: 0.8956\n",
            "Epoch 14/20\n",
            "329/329 [==============================] - 4s 12ms/step - loss: 0.1961 - accuracy: 0.9284 - val_loss: 0.3285 - val_accuracy: 0.8977\n",
            "Epoch 15/20\n",
            "329/329 [==============================] - 4s 12ms/step - loss: 0.1879 - accuracy: 0.9285 - val_loss: 0.3145 - val_accuracy: 0.9035\n",
            "Epoch 16/20\n",
            "329/329 [==============================] - 4s 11ms/step - loss: 0.1785 - accuracy: 0.9319 - val_loss: 0.3457 - val_accuracy: 0.8990\n",
            "Epoch 17/20\n",
            "329/329 [==============================] - 4s 12ms/step - loss: 0.1782 - accuracy: 0.9318 - val_loss: 0.3210 - val_accuracy: 0.9029\n",
            "Epoch 18/20\n",
            "329/329 [==============================] - 4s 12ms/step - loss: 0.1706 - accuracy: 0.9364 - val_loss: 0.3218 - val_accuracy: 0.9026\n",
            "Epoch 19/20\n",
            "329/329 [==============================] - 4s 12ms/step - loss: 0.1729 - accuracy: 0.9336 - val_loss: 0.3171 - val_accuracy: 0.9039\n",
            "Epoch 20/20\n",
            "329/329 [==============================] - 4s 11ms/step - loss: 0.1627 - accuracy: 0.9395 - val_loss: 0.3293 - val_accuracy: 0.9061\n"
          ]
        },
        {
          "output_type": "execute_result",
          "data": {
            "text/plain": [
              "<keras.callbacks.History at 0x7f9ea495efd0>"
            ]
          },
          "metadata": {},
          "execution_count": 276
        }
      ],
      "source": [
        "#######HYPERPARAMATERS###########\n",
        "epochs = 20\n",
        "batch_size = 64\n",
        "learning_rate = 0.001\n",
        "#################################\n",
        "  \n",
        "model = Sequential()\n",
        "    \n",
        "model.add(Conv2D(32, kernel_size = (3,3), input_shape=(28,28,1), activation='relu'))\n",
        "model.add(Conv2D(64,(3,3), activation='relu'))\n",
        "model.add(MaxPooling2D(pool_size=2))\n",
        "model.add(PermaDropout(0.5))\n",
        "model.add(Flatten())\n",
        "model.add(Dense(128, activation='relu'))\n",
        "model.add(PermaDropout(0.5))\n",
        "model.add(Dense(10, activation='softmax'))\n",
        "adam = keras.optimizers.Adam(learning_rate)\n",
        "model.compile(optimizer = adam, loss = 'categorical_crossentropy', metrics = ['accuracy'])\n",
        "    \n",
        "# print(model.summary())\n",
        "\n",
        "lr_reducer = ReduceLROnPlateau(monitor='val_loss', factor=0.9, patience=3)\n",
        "early_stopper = EarlyStopping(monitor='val_accuracy', min_delta=0, patience=30, mode='auto')\n",
        "checkpointer = ModelCheckpoint('weights.hd5', monitor='val_loss', verbose=1, save_best_only=True)\n",
        "\n",
        "model.fit(\n",
        "          train_data,\n",
        "          train_labels,\n",
        "          epochs = epochs,\n",
        "          batch_size = batch_size,\n",
        "          validation_split = 0.3,\n",
        "          shuffle = True\n",
        "          )"
      ]
    },
    {
      "cell_type": "code",
      "execution_count": 277,
      "metadata": {
        "id": "9_zB1OL252B3"
      },
      "outputs": [],
      "source": [
        "model.save('/content/drive/MyDrive/파이썬스터디 프로젝트/labeling_cnn2.h5')"
      ]
    },
    {
      "cell_type": "code",
      "execution_count": 278,
      "metadata": {
        "colab": {
          "base_uri": "https://localhost:8080/"
        },
        "id": "BbEZKkhn52B4",
        "outputId": "05697774-6df1-45ba-afb3-5eaac16543fd"
      },
      "outputs": [
        {
          "output_type": "execute_result",
          "data": {
            "text/plain": [
              "0.8856"
            ]
          },
          "metadata": {},
          "execution_count": 278
        }
      ],
      "source": [
        "model = keras.models.load_model('/content/drive/MyDrive/파이썬스터디 프로젝트/labeling_cnn2.h5')\n",
        "model_eval() #0.89xx"
      ]
    },
    {
      "cell_type": "markdown",
      "source": [
        "## 라벨링; 2"
      ],
      "metadata": {
        "id": "-7sEYnhC6Atv"
      }
    },
    {
      "cell_type": "code",
      "source": [
        "model = keras.models.load_model('/content/drive/MyDrive/파이썬스터디 프로젝트/labeling_cnn2.h5')"
      ],
      "metadata": {
        "id": "cbBFrnmf6HK1"
      },
      "execution_count": 279,
      "outputs": []
    },
    {
      "cell_type": "code",
      "source": [
        "# Vars : 분산들\n",
        "# Outs : 결과 값들\n",
        "\n",
        "Vars = []\n",
        "Outs = []\n",
        "\n",
        "temp1 = []\n",
        "\n",
        "for i in tqdm(range(30)):\n",
        "  temp1.append(model.predict(unlab_data))\n",
        "\n",
        "for j in tqdm(range(unlab_data.shape[0])):\n",
        "\n",
        "  temp2 = np.array([0,0,0,0,0,0,0,0,0,0], 'float32')\n",
        "  \n",
        "  for i in range(30):\n",
        "    temp2 += temp1[i][j]\n",
        "  Outs.append(np.argmax(temp2))\n",
        "  \n",
        "  outputs=[]\n",
        "\n",
        "  for i in range(30):\n",
        "    outputs.append(temp1[i][j][np.argmax(temp2)])\n",
        "  Vars.append(np.var(outputs))"
      ],
      "metadata": {
        "colab": {
          "base_uri": "https://localhost:8080/"
        },
        "outputId": "6fed7c31-95e6-4267-e5ba-0c870e59b2d4",
        "id": "XZq8Vqzp6Atw"
      },
      "execution_count": 280,
      "outputs": [
        {
          "output_type": "stream",
          "name": "stderr",
          "text": [
            "100%|██████████| 30/30 [01:34<00:00,  3.15s/it]\n",
            "100%|██████████| 29923/29923 [00:05<00:00, 5330.33it/s]\n"
          ]
        }
      ]
    },
    {
      "cell_type": "code",
      "source": [
        "lowvars = []\n",
        "ind = 0 \n",
        "\n",
        "for i in Vars:\n",
        "  if i < 1e-5:\n",
        "    lowvars.append(ind)\n",
        "  ind += 1"
      ],
      "metadata": {
        "id": "n-3ZaAyf6Atw"
      },
      "execution_count": 281,
      "outputs": []
    },
    {
      "cell_type": "code",
      "source": [
        "highvars = []\n",
        "for i in range(unlab_data.shape[0]):\n",
        "  if i not in lowvars:\n",
        "    highvars.append(i)"
      ],
      "metadata": {
        "id": "AktvADTC6Atw"
      },
      "execution_count": 282,
      "outputs": []
    },
    {
      "cell_type": "code",
      "source": [
        "# 같은 길이의 랜덤하게 고른 data들에 모델로 label 부여 후 정확도 측정 : 0.90x\n",
        "randomindx = random.sample(range(unlab_data.shape[0]), len(lowvars))\n",
        "accuracy_score(np.array(Outs)[randomindx], unlab_labels[randomindx])"
      ],
      "metadata": {
        "colab": {
          "base_uri": "https://localhost:8080/"
        },
        "outputId": "5d0f5808-fefb-45ab-9a90-55bda399296f",
        "id": "-4aT-T6v6Atw"
      },
      "execution_count": 283,
      "outputs": [
        {
          "output_type": "execute_result",
          "data": {
            "text/plain": [
              "0.8642512077294686"
            ]
          },
          "metadata": {},
          "execution_count": 283
        }
      ]
    },
    {
      "cell_type": "code",
      "source": [
        "# 저분산의 data들만 모아서 모델로 label 부여 후 정확도 측정 : 0.99x\n",
        "accuracy_score(np.array(Outs)[lowvars], unlab_labels[lowvars])"
      ],
      "metadata": {
        "colab": {
          "base_uri": "https://localhost:8080/"
        },
        "outputId": "35d00cfa-a2a2-4166-9a99-c5f9f105a40b",
        "id": "I5VxbIN06Atx"
      },
      "execution_count": 284,
      "outputs": [
        {
          "output_type": "execute_result",
          "data": {
            "text/plain": [
              "0.998792270531401"
            ]
          },
          "metadata": {},
          "execution_count": 284
        }
      ]
    },
    {
      "cell_type": "code",
      "source": [
        "len(highvars)"
      ],
      "metadata": {
        "colab": {
          "base_uri": "https://localhost:8080/"
        },
        "id": "B6dXUNvLGrtm",
        "outputId": "24ad1fa2-b5b0-461f-8318-1e1f14fc6189"
      },
      "execution_count": 285,
      "outputs": [
        {
          "output_type": "execute_result",
          "data": {
            "text/plain": [
              "25783"
            ]
          },
          "metadata": {},
          "execution_count": 285
        }
      ]
    },
    {
      "cell_type": "code",
      "source": [
        "train_data = np.concatenate([train_data, unlab_data[lowvars]], axis=0)\n",
        "train_labels = np.concatenate([train_labels, unlab_labels[lowvars]], axis=0)"
      ],
      "metadata": {
        "id": "PnHPyri56Atx"
      },
      "execution_count": 286,
      "outputs": []
    },
    {
      "cell_type": "code",
      "source": [
        "unlab_data = unlab_data[highvars]\n",
        "unlab_labels = unlab_labels[highvars]"
      ],
      "metadata": {
        "id": "ksAWGKR_6Atx"
      },
      "execution_count": 287,
      "outputs": []
    },
    {
      "cell_type": "code",
      "source": [
        "shufindx = random.sample(range(train_data.shape[0]),train_data.shape[0])\n",
        "train_data = train_data[shufindx]\n",
        "train_labels = train_labels[shufindx]"
      ],
      "metadata": {
        "id": "AKvBV82uHDAG"
      },
      "execution_count": 288,
      "outputs": []
    },
    {
      "cell_type": "code",
      "source": [
        "unlab_data.shape"
      ],
      "metadata": {
        "colab": {
          "base_uri": "https://localhost:8080/"
        },
        "id": "yB4MIl2HHHJl",
        "outputId": "43743ab7-bc12-49cb-f17d-1751eaaa6f6a"
      },
      "execution_count": 289,
      "outputs": [
        {
          "output_type": "execute_result",
          "data": {
            "text/plain": [
              "(25783, 28, 28, 1)"
            ]
          },
          "metadata": {},
          "execution_count": 289
        }
      ]
    },
    {
      "cell_type": "markdown",
      "source": [
        "## 모델링; 2"
      ],
      "metadata": {
        "id": "B7c7xj4mHcS_"
      }
    },
    {
      "cell_type": "code",
      "execution_count": 290,
      "metadata": {
        "id": "pR3A-YR3HcTB"
      },
      "outputs": [],
      "source": [
        "def PermaDropout(rate):\n",
        "    return Lambda(lambda x: K.dropout(x, level=rate))"
      ]
    },
    {
      "cell_type": "code",
      "execution_count": 291,
      "metadata": {
        "colab": {
          "base_uri": "https://localhost:8080/"
        },
        "outputId": "651810e6-1215-4042-db75-1f3ba1453f4b",
        "id": "vEVSIZwjHcTB"
      },
      "outputs": [
        {
          "output_type": "stream",
          "name": "stdout",
          "text": [
            "Epoch 1/20\n",
            "375/375 [==============================] - 5s 12ms/step - loss: 1.2771 - accuracy: 0.8043 - val_loss: 0.3862 - val_accuracy: 0.8641\n",
            "Epoch 2/20\n",
            "375/375 [==============================] - 4s 11ms/step - loss: 0.3550 - accuracy: 0.8770 - val_loss: 0.3648 - val_accuracy: 0.8788\n",
            "Epoch 3/20\n",
            "375/375 [==============================] - 4s 11ms/step - loss: 0.3170 - accuracy: 0.8881 - val_loss: 0.3155 - val_accuracy: 0.8868\n",
            "Epoch 4/20\n",
            "375/375 [==============================] - 4s 11ms/step - loss: 0.2870 - accuracy: 0.8971 - val_loss: 0.3269 - val_accuracy: 0.8920\n",
            "Epoch 5/20\n",
            "375/375 [==============================] - 5s 13ms/step - loss: 0.2666 - accuracy: 0.9023 - val_loss: 0.3088 - val_accuracy: 0.8916\n",
            "Epoch 6/20\n",
            "375/375 [==============================] - 5s 13ms/step - loss: 0.2466 - accuracy: 0.9094 - val_loss: 0.2842 - val_accuracy: 0.9023\n",
            "Epoch 7/20\n",
            "375/375 [==============================] - 5s 13ms/step - loss: 0.2372 - accuracy: 0.9139 - val_loss: 0.2835 - val_accuracy: 0.9031\n",
            "Epoch 8/20\n",
            "375/375 [==============================] - 5s 13ms/step - loss: 0.2242 - accuracy: 0.9153 - val_loss: 0.3003 - val_accuracy: 0.9024\n",
            "Epoch 9/20\n",
            "375/375 [==============================] - 5s 13ms/step - loss: 0.2131 - accuracy: 0.9199 - val_loss: 0.2733 - val_accuracy: 0.9089\n",
            "Epoch 10/20\n",
            "375/375 [==============================] - 5s 13ms/step - loss: 0.2015 - accuracy: 0.9248 - val_loss: 0.2822 - val_accuracy: 0.9075\n",
            "Epoch 11/20\n",
            "375/375 [==============================] - 4s 11ms/step - loss: 0.1971 - accuracy: 0.9249 - val_loss: 0.2793 - val_accuracy: 0.9066\n",
            "Epoch 12/20\n",
            "375/375 [==============================] - 4s 11ms/step - loss: 0.1932 - accuracy: 0.9260 - val_loss: 0.2989 - val_accuracy: 0.9054\n",
            "Epoch 13/20\n",
            "375/375 [==============================] - 4s 11ms/step - loss: 0.1861 - accuracy: 0.9296 - val_loss: 0.2859 - val_accuracy: 0.9142\n",
            "Epoch 14/20\n",
            "375/375 [==============================] - 4s 11ms/step - loss: 0.1770 - accuracy: 0.9343 - val_loss: 0.3125 - val_accuracy: 0.9072\n",
            "Epoch 15/20\n",
            "375/375 [==============================] - 4s 11ms/step - loss: 0.1734 - accuracy: 0.9345 - val_loss: 0.2861 - val_accuracy: 0.9094\n",
            "Epoch 16/20\n",
            "375/375 [==============================] - 4s 11ms/step - loss: 0.1725 - accuracy: 0.9375 - val_loss: 0.2867 - val_accuracy: 0.9128\n",
            "Epoch 17/20\n",
            "375/375 [==============================] - 4s 11ms/step - loss: 0.1691 - accuracy: 0.9362 - val_loss: 0.3054 - val_accuracy: 0.9103\n",
            "Epoch 18/20\n",
            "375/375 [==============================] - 5s 13ms/step - loss: 0.1622 - accuracy: 0.9403 - val_loss: 0.2893 - val_accuracy: 0.9121\n",
            "Epoch 19/20\n",
            "375/375 [==============================] - 5s 13ms/step - loss: 0.1591 - accuracy: 0.9414 - val_loss: 0.2949 - val_accuracy: 0.9144\n",
            "Epoch 20/20\n",
            "375/375 [==============================] - 4s 11ms/step - loss: 0.1565 - accuracy: 0.9421 - val_loss: 0.2810 - val_accuracy: 0.9109\n"
          ]
        },
        {
          "output_type": "execute_result",
          "data": {
            "text/plain": [
              "<keras.callbacks.History at 0x7f9ea6df21d0>"
            ]
          },
          "metadata": {},
          "execution_count": 291
        }
      ],
      "source": [
        "#######HYPERPARAMATERS###########\n",
        "epochs = 20\n",
        "batch_size = 64\n",
        "learning_rate = 0.001\n",
        "#################################\n",
        "  \n",
        "model = Sequential()\n",
        "    \n",
        "model.add(Conv2D(32, kernel_size = (3,3), input_shape=(28,28,1), activation='relu'))\n",
        "model.add(Conv2D(64,(3,3), activation='relu'))\n",
        "model.add(MaxPooling2D(pool_size=2))\n",
        "model.add(PermaDropout(0.5))\n",
        "model.add(Flatten())\n",
        "model.add(Dense(128, activation='relu'))\n",
        "model.add(PermaDropout(0.5))\n",
        "model.add(Dense(10, activation='softmax'))\n",
        "adam = keras.optimizers.Adam(learning_rate)\n",
        "model.compile(optimizer = adam, loss = 'categorical_crossentropy', metrics = ['accuracy'])\n",
        "    \n",
        "# print(model.summary())\n",
        "\n",
        "lr_reducer = ReduceLROnPlateau(monitor='val_loss', factor=0.9, patience=3)\n",
        "early_stopper = EarlyStopping(monitor='val_accuracy', min_delta=0, patience=30, mode='auto')\n",
        "checkpointer = ModelCheckpoint('weights.hd5', monitor='val_loss', verbose=1, save_best_only=True)\n",
        "\n",
        "model.fit(\n",
        "          train_data,\n",
        "          train_labels,\n",
        "          epochs = epochs,\n",
        "          batch_size = batch_size,\n",
        "          validation_split = 0.3,\n",
        "          shuffle = True\n",
        "          )"
      ]
    },
    {
      "cell_type": "code",
      "execution_count": 292,
      "metadata": {
        "id": "Kx6_dX_0HcTB"
      },
      "outputs": [],
      "source": [
        "model.save('/content/drive/MyDrive/파이썬스터디 프로젝트/labeling_cnn3.h5')"
      ]
    },
    {
      "cell_type": "code",
      "execution_count": 293,
      "metadata": {
        "colab": {
          "base_uri": "https://localhost:8080/"
        },
        "outputId": "a269a70c-c14b-4a48-919c-94464c043bee",
        "id": "7pZtl6HBHcTB"
      },
      "outputs": [
        {
          "output_type": "execute_result",
          "data": {
            "text/plain": [
              "0.8817"
            ]
          },
          "metadata": {},
          "execution_count": 293
        }
      ],
      "source": [
        "model = keras.models.load_model('/content/drive/MyDrive/파이썬스터디 프로젝트/labeling_cnn3.h5')\n",
        "model_eval() #0.89xx"
      ]
    },
    {
      "cell_type": "code",
      "source": [
        ""
      ],
      "metadata": {
        "id": "BOMPGSiXHhbN"
      },
      "execution_count": 293,
      "outputs": []
    }
  ],
  "metadata": {
    "accelerator": "GPU",
    "colab": {
      "name": "uncertainty 기반 labeling.ipynb",
      "provenance": [],
      "collapsed_sections": [],
      "authorship_tag": "ABX9TyN8619Voqx1mJ8sO6qmqUfM",
      "include_colab_link": true
    },
    "kernelspec": {
      "display_name": "Python 3",
      "name": "python3"
    },
    "language_info": {
      "name": "python"
    }
  },
  "nbformat": 4,
  "nbformat_minor": 0
}